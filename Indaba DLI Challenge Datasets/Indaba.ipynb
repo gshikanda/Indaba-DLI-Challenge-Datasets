{
 "cells": [
  {
   "cell_type": "markdown",
   "id": "b5dfcbbf",
   "metadata": {},
   "source": [
    "## BUSINESS UNDERSTANDING\n",
    "The purpose of this project is to come up with a smart devise for infant ,which will be able to detect \n",
    "early anomalies as well as give real time monitoring.by use of machine learning the devise will be able\n",
    "to detect changes in the body tempratures,heart rate and voice variation in order to ascetain if the baby \n",
    "needs medical attention.with the use of voice /sound analysis the model will detect variation in infants \n",
    "cry to determine the possible attention needed.the model will also be able to learn the activity of the \n",
    "infant ie sleeping,waking pattern.time when the child is active etc"
   ]
  },
  {
   "cell_type": "code",
   "execution_count": 2,
   "id": "59d031b1",
   "metadata": {},
   "outputs": [],
   "source": [
    "import pandas as pd\n",
    "import numpy as np\n",
    "import glob\n",
    "import os"
   ]
  },
  {
   "cell_type": "code",
   "execution_count": 10,
   "id": "0b49614b",
   "metadata": {},
   "outputs": [
    {
     "name": "stdout",
     "output_type": "stream",
     "text": [
      "[]\n"
     ]
    }
   ],
   "source": [
    "csv_files = glob.glob(\"Indaba DLI Challenge Datasets/*.*\")\n",
    "# Create a list of DataFrames from the CSV files    \n",
    "dataframes = [pd.read_csv(file) for file in csv_files]\n",
    "print(dataframes)\n",
    "\n"
   ]
  },
  {
   "cell_type": "code",
   "execution_count": 9,
   "id": "042105f9",
   "metadata": {},
   "outputs": [
    {
     "name": "stdout",
     "output_type": "stream",
     "text": [
      "c:\\Users\\user\\Downloads\\Indaba DLI Challenge Datasets\n"
     ]
    }
   ],
   "source": [
    "print(os.getcwd())"
   ]
  },
  {
   "cell_type": "code",
   "execution_count": 8,
   "id": "fd9e9ba7",
   "metadata": {},
   "outputs": [
    {
     "name": "stderr",
     "output_type": "stream",
     "text": [
      "C:\\Users\\user\\AppData\\Local\\Temp\\ipykernel_8048\\447816470.py:7: DtypeWarning: Columns (15) have mixed types. Specify dtype option on import or set low_memory=False.\n",
      "  neon_mort=pd.read_csv(r\"Indaba DLI Challenge Datasets\\World neonatal mortality rate\\UNIGME-2021.csv\")\n"
     ]
    }
   ],
   "source": [
    "cause_of_death=pd.read_csv(r\"Indaba DLI Challenge Datasets\\Cause of Deaths around the World (Historical Data)\\cause_of_deaths.csv\")\n",
    "birtweights=pd.read_csv(r\"Indaba DLI Challenge Datasets\\Factors Influencing birth weights\\factors_influencing_birthweights.csv\")\n",
    "mortality_rate=pd.read_csv(r\"Indaba DLI Challenge Datasets\\Infant and Neonatal Mortality Rates\\NCHS_-_Infant_and_neonatal_mortality_rates__United_States__1915-2013.csv\")\n",
    "NICU=pd.read_csv(r\"Indaba DLI Challenge Datasets\\Neonatal Intensive Care Unit\\NICU.csv\")\n",
    "saarc_neon=pd.read_csv(r\"Indaba DLI Challenge Datasets\\Neonatal Mortality in SAARC Region( 2012-2021)\\saarc_neonatal_mortaility.csv\")\n",
    "synth_data=pd.read_csv(r\"Indaba DLI Challenge Datasets\\Synthetic Infant Health Dataset\\Synthetic-Infant-Health-Data.csv\")\n",
    "neon_mort=pd.read_csv(r\"Indaba DLI Challenge Datasets\\World neonatal mortality rate\\UNIGME-2021.csv\")"
   ]
  },
  {
   "cell_type": "code",
   "execution_count": 11,
   "id": "e09b0746",
   "metadata": {},
   "outputs": [
    {
     "name": "stdout",
     "output_type": "stream",
     "text": [
      "c:\\Users\\user\\Downloads\\Indaba DLI Challenge Datasets\n"
     ]
    }
   ],
   "source": [
    "print(os.getcwd())"
   ]
  },
  {
   "cell_type": "markdown",
   "id": "a78b932f",
   "metadata": {},
   "source": []
  }
 ],
 "metadata": {
  "kernelspec": {
   "display_name": "learn-env",
   "language": "python",
   "name": "python3"
  },
  "language_info": {
   "codemirror_mode": {
    "name": "ipython",
    "version": 3
   },
   "file_extension": ".py",
   "mimetype": "text/x-python",
   "name": "python",
   "nbconvert_exporter": "python",
   "pygments_lexer": "ipython3",
   "version": "3.8.5"
  }
 },
 "nbformat": 4,
 "nbformat_minor": 5
}
